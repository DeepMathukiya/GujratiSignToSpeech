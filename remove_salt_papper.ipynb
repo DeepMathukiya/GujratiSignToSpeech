{
 "cells": [
  {
   "cell_type": "code",
   "execution_count": 16,
   "id": "30b4344f",
   "metadata": {},
   "outputs": [
    {
     "name": "stdout",
     "output_type": "stream",
     "text": [
      "Failed to load image: dataset/ક/10.jpg\n"
     ]
    }
   ],
   "source": [
    "import cv2\n",
    "import os\n",
    "\n",
    "def remove_salt_pepper_noise(input_path, output_path):\n",
    "    # Check if the file exists\n",
    "    if not os.path.exists(input_path):\n",
    "        print(f\"File not found: {input_path}\")\n",
    "        return\n",
    "\n",
    "    # Read the image\n",
    "    image = cv2.imread(input_path)\n",
    "\n",
    "    if image is None:\n",
    "        print(f\"Failed to load image: {input_path}\")\n",
    "        return\n",
    "    \n",
    "    # Apply median filter to remove salt-and-pepper noise\n",
    "    denoised_image = cv2.medianBlur(image, 3)  # You can increase the kernel size if needed\n",
    "\n",
    "    # Write the denoised image to the output path\n",
    "    cv2.imwrite(output_path, denoised_image)\n",
    "    print(f\"Denoised image saved to: {output_path}\")\n",
    "\n",
    "# Example usage\n",
    "input_file = 'dataset/ક/10.jpg'       # Replace with your actual file path\n",
    "output_file = 'denoised_image.jpg'     # Output file path\n",
    "remove_salt_pepper_noise(input_file, output_file)\n"
   ]
  },
  {
   "cell_type": "code",
   "execution_count": null,
   "id": "1f94881e",
   "metadata": {},
   "outputs": [
    {
     "ename": "KeyboardInterrupt",
     "evalue": "",
     "output_type": "error",
     "traceback": [
      "\u001b[1;31m---------------------------------------------------------------------------\u001b[0m",
      "\u001b[1;31mKeyboardInterrupt\u001b[0m                         Traceback (most recent call last)",
      "Cell \u001b[1;32mIn[24], line 14\u001b[0m\n\u001b[0;32m     12\u001b[0m img \u001b[38;5;241m=\u001b[39m Image\u001b[38;5;241m.\u001b[39mopen(os\u001b[38;5;241m.\u001b[39mpath\u001b[38;5;241m.\u001b[39mjoin(folderPath,j))\n\u001b[0;32m     13\u001b[0m img\u001b[38;5;241m=\u001b[39m img\u001b[38;5;241m.\u001b[39mfilter(ImageFilter\u001b[38;5;241m.\u001b[39mMedianFilter(size\u001b[38;5;241m=\u001b[39m\u001b[38;5;241m5\u001b[39m))  \u001b[38;5;66;03m# Apply median \u001b[39;00m\n\u001b[1;32m---> 14\u001b[0m img \u001b[38;5;241m=\u001b[39m \u001b[43mimg\u001b[49m\u001b[38;5;241;43m.\u001b[39;49m\u001b[43mfilter\u001b[49m\u001b[43m(\u001b[49m\u001b[43mImageFilter\u001b[49m\u001b[38;5;241;43m.\u001b[39;49m\u001b[43mSMOOTH\u001b[49m\u001b[43m)\u001b[49m\n\u001b[0;32m     15\u001b[0m img\u001b[38;5;241m.\u001b[39msave(os\u001b[38;5;241m.\u001b[39mpath\u001b[38;5;241m.\u001b[39mjoin(folderPath2,j))\n",
      "File \u001b[1;32m~\\AppData\\Roaming\\Python\\Python311\\site-packages\\PIL\\Image.py:1314\u001b[0m, in \u001b[0;36mImage.filter\u001b[1;34m(self, filter)\u001b[0m\n\u001b[0;32m   1312\u001b[0m multiband \u001b[38;5;241m=\u001b[39m \u001b[38;5;28misinstance\u001b[39m(\u001b[38;5;28mfilter\u001b[39m, ImageFilter\u001b[38;5;241m.\u001b[39mMultibandFilter)\n\u001b[0;32m   1313\u001b[0m \u001b[38;5;28;01mif\u001b[39;00m \u001b[38;5;28mself\u001b[39m\u001b[38;5;241m.\u001b[39mim\u001b[38;5;241m.\u001b[39mbands \u001b[38;5;241m==\u001b[39m \u001b[38;5;241m1\u001b[39m \u001b[38;5;129;01mor\u001b[39;00m multiband:\n\u001b[1;32m-> 1314\u001b[0m     \u001b[38;5;28;01mreturn\u001b[39;00m \u001b[38;5;28mself\u001b[39m\u001b[38;5;241m.\u001b[39m_new(\u001b[38;5;28;43mfilter\u001b[39;49m\u001b[38;5;241;43m.\u001b[39;49m\u001b[43mfilter\u001b[49m\u001b[43m(\u001b[49m\u001b[38;5;28;43mself\u001b[39;49m\u001b[38;5;241;43m.\u001b[39;49m\u001b[43mim\u001b[49m\u001b[43m)\u001b[49m)\n\u001b[0;32m   1316\u001b[0m ims \u001b[38;5;241m=\u001b[39m [\n\u001b[0;32m   1317\u001b[0m     \u001b[38;5;28mself\u001b[39m\u001b[38;5;241m.\u001b[39m_new(\u001b[38;5;28mfilter\u001b[39m\u001b[38;5;241m.\u001b[39mfilter(\u001b[38;5;28mself\u001b[39m\u001b[38;5;241m.\u001b[39mim\u001b[38;5;241m.\u001b[39mgetband(c))) \u001b[38;5;28;01mfor\u001b[39;00m c \u001b[38;5;129;01min\u001b[39;00m \u001b[38;5;28mrange\u001b[39m(\u001b[38;5;28mself\u001b[39m\u001b[38;5;241m.\u001b[39mim\u001b[38;5;241m.\u001b[39mbands)\n\u001b[0;32m   1318\u001b[0m ]\n\u001b[0;32m   1319\u001b[0m \u001b[38;5;28;01mreturn\u001b[39;00m merge(\u001b[38;5;28mself\u001b[39m\u001b[38;5;241m.\u001b[39mmode, ims)\n",
      "File \u001b[1;32m~\\AppData\\Roaming\\Python\\Python311\\site-packages\\PIL\\ImageFilter.py:35\u001b[0m, in \u001b[0;36mBuiltinFilter.filter\u001b[1;34m(self, image)\u001b[0m\n\u001b[0;32m     33\u001b[0m     msg \u001b[38;5;241m=\u001b[39m \u001b[38;5;124m\"\u001b[39m\u001b[38;5;124mcannot filter palette images\u001b[39m\u001b[38;5;124m\"\u001b[39m\n\u001b[0;32m     34\u001b[0m     \u001b[38;5;28;01mraise\u001b[39;00m \u001b[38;5;167;01mValueError\u001b[39;00m(msg)\n\u001b[1;32m---> 35\u001b[0m \u001b[38;5;28;01mreturn\u001b[39;00m \u001b[43mimage\u001b[49m\u001b[38;5;241;43m.\u001b[39;49m\u001b[43mfilter\u001b[49m\u001b[43m(\u001b[49m\u001b[38;5;241;43m*\u001b[39;49m\u001b[38;5;28;43mself\u001b[39;49m\u001b[38;5;241;43m.\u001b[39;49m\u001b[43mfilterargs\u001b[49m\u001b[43m)\u001b[49m\n",
      "\u001b[1;31mKeyboardInterrupt\u001b[0m: "
     ]
    }
   ],
   "source": [
    "from PIL import Image, ImageFilter\n",
    "import numpy as np\n",
    "import os\n",
    "dataset = 'dataset'\n",
    "labels =  [ 'ક','ખ', 'ગ','ઘ', 'ચ', 'છ', 'જ', 'ટ', 'ઠ', 'ડ', 'ઢ', 'ણ', 'ત', 'થ', 'દ', 'ધ', 'ન',\n",
    "     'ફ', 'બ', 'ભ', 'મ', 'ય', 'ર', 'લ', 'વ','શ','ષ' , 'સ' ,'હ','ળ','ક્ષ', 'જ્ઞ','0']\n",
    "folderPath2 = \"out\"\n",
    "for _ in range(2):\n",
    "    for i in labels:\n",
    "        folderPath = os.path.join(dataset,i)\n",
    "        for j in os.listdir(folderPath):\n",
    "            img = Image.open(os.path.join(folderPath,j))\n",
    "            img= img.filter(ImageFilter.MedianFilter(size=5))  # Apply median \n",
    "            img = img.filter(ImageFilter.SMOOTH)\n",
    "            \n",
    "            img.save(os.path.join(folderPath2,j))"
   ]
  },
  {
   "cell_type": "code",
   "execution_count": null,
   "id": "6a255b31",
   "metadata": {},
   "outputs": [],
   "source": []
  }
 ],
 "metadata": {
  "kernelspec": {
   "display_name": "Python 3",
   "language": "python",
   "name": "python3"
  },
  "language_info": {
   "codemirror_mode": {
    "name": "ipython",
    "version": 3
   },
   "file_extension": ".py",
   "mimetype": "text/x-python",
   "name": "python",
   "nbconvert_exporter": "python",
   "pygments_lexer": "ipython3",
   "version": "3.11.5"
  }
 },
 "nbformat": 4,
 "nbformat_minor": 5
}
