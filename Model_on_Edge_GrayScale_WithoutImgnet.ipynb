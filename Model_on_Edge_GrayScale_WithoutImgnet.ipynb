{
 "cells": [
  {
   "cell_type": "code",
   "execution_count": 1,
   "metadata": {},
   "outputs": [],
   "source": [
    "dataset=\"dataset\""
   ]
  },
  {
   "cell_type": "code",
   "execution_count": 2,
   "metadata": {},
   "outputs": [],
   "source": [
    "import os\n",
    "import cv2\n",
    "import keras\n",
    "import numpy as np\n",
    "import pandas as pd\n",
    "import seaborn as sns\n",
    "from tqdm import tqdm\n",
    "from glob import glob\n",
    "import tensorflow as tf\n",
    "import matplotlib.pyplot as plt\n",
    "from keras.applications.vgg19 import VGG19\n",
    "from keras.applications.vgg19 import preprocess_input\n",
    "from sklearn.utils import shuffle\n",
    "from tensorflow.keras.metrics import Accuracy, Precision, Recall, AUC\n",
    "from tensorflow.keras.utils import to_categorical\n",
    "from tensorflow.keras.preprocessing.image import ImageDataGenerator, img_to_array, load_img\n",
    "from tensorflow.keras import Input, Sequential, Model\n",
    "from tensorflow.keras.models import load_model\n",
    "from tensorflow.keras.layers import Conv2D, MaxPooling2D, Dropout, Flatten, Dense, BatchNormalization, GlobalAveragePooling2D,Input\n",
    "from tensorflow.keras.optimizers import Adam\n",
    "from tensorflow.keras.callbacks import ModelCheckpoint, ReduceLROnPlateau, EarlyStopping\n",
    "os.environ['TF_CPP_MIN_LOG_LEVEL'] = \"2\"\n",
    "tf.get_logger().setLevel(\"ERROR\")\n",
    "from PIL import Image,ImageFilter\n"
   ]
  },
  {
   "cell_type": "code",
   "execution_count": 3,
   "metadata": {},
   "outputs": [
    {
     "name": "stdout",
     "output_type": "stream",
     "text": [
      "Loaded ક images\n",
      "Loaded ખ images\n",
      "Loaded ગ images\n",
      "Loaded ઘ images\n",
      "Loaded ચ images\n",
      "Loaded છ images\n",
      "Loaded જ images\n",
      "Loaded ટ images\n",
      "Loaded ઠ images\n",
      "Loaded ડ images\n",
      "Loaded ઢ images\n",
      "Loaded ણ images\n",
      "Loaded ત images\n",
      "Loaded થ images\n",
      "Loaded દ images\n",
      "Loaded ધ images\n",
      "Loaded ન images\n",
      "Loaded ફ images\n",
      "Loaded બ images\n",
      "Loaded ભ images\n",
      "Loaded મ images\n",
      "Loaded ય images\n",
      "Loaded ર images\n",
      "Loaded લ images\n",
      "Loaded વ images\n",
      "Loaded શ images\n",
      "Loaded ષ images\n",
      "Loaded સ images\n",
      "Loaded હ images\n",
      "Loaded ળ images\n",
      "Loaded ક્ષ images\n",
      "Loaded જ્ઞ images\n",
      "Loaded 0 images\n",
      "Loaded ક images\n",
      "Loaded ખ images\n",
      "Loaded ગ images\n",
      "Loaded ઘ images\n",
      "Loaded ચ images\n",
      "Loaded છ images\n",
      "Loaded જ images\n",
      "Loaded ટ images\n",
      "Loaded ઠ images\n",
      "Loaded ડ images\n",
      "Loaded ઢ images\n",
      "Loaded ણ images\n",
      "Loaded ત images\n",
      "Loaded થ images\n",
      "Loaded દ images\n",
      "Loaded ધ images\n",
      "Loaded ન images\n",
      "Loaded ફ images\n",
      "Loaded બ images\n",
      "Loaded ભ images\n",
      "Loaded મ images\n",
      "Loaded ય images\n",
      "Loaded ર images\n",
      "Loaded લ images\n",
      "Loaded વ images\n",
      "Loaded શ images\n",
      "Loaded ષ images\n",
      "Loaded સ images\n",
      "Loaded હ images\n",
      "Loaded ળ images\n",
      "Loaded ક્ષ images\n",
      "Loaded જ્ઞ images\n",
      "Loaded 0 images\n"
     ]
    }
   ],
   "source": [
    "x_train = []\n",
    "y_train = []\n",
    "image_size = 224\n",
    "labels =  [ 'ક','ખ', 'ગ','ઘ', 'ચ', 'છ', 'જ', 'ટ', 'ઠ', 'ડ', 'ઢ', 'ણ', 'ત', 'થ', 'દ', 'ધ', 'ન',\n",
    "     'ફ', 'બ', 'ભ', 'મ', 'ય', 'ર', 'લ', 'વ','શ','ષ' , 'સ' ,'હ','ળ','ક્ષ', 'જ્ઞ','0']\n",
    "\n",
    "for _ in range(2):\n",
    "    for i in labels:\n",
    "        folderPath = os.path.join(dataset,i)\n",
    "        for j in os.listdir(folderPath):\n",
    "            img = Image.open(os.path.join(folderPath,j))\n",
    "            # img = np.array(img)\n",
    "            img = img.resize((image_size,image_size))\n",
    "            img = img.convert('L')\n",
    "            img= img.filter(ImageFilter.FIND_EDGES)\n",
    "            img = img.point(lambda x : 255 if x >45 else 0)\n",
    "            img = np.array(img)\n",
    "            # print(img)\n",
    "            x_train.append(img)\n",
    "            y_train.append(i)\n",
    "        print(f\"Loaded {i} images\")    \n",
    "# for i in labels:\n",
    "#     folderPath = os.path.join(dataset,i)\n",
    "#     for j in os.listdir(folderPath):\n",
    "#         img = Image.open(os.path.join(folderPath,j))\n",
    "#         img = np.array(img)\n",
    "#         img = img.resize((image_size,image_size))\n",
    "#         img.convert('L')\n",
    "        \n",
    "#         x_train.append(img)\n",
    "#         y_train.append(i)\n",
    "\n",
    "x_train = np.array(x_train)\n",
    "y_train = np.array(y_train)"
   ]
  },
  {
   "cell_type": "code",
   "execution_count": 4,
   "metadata": {},
   "outputs": [],
   "source": [
    "# np.unique(x_train)"
   ]
  },
  {
   "cell_type": "code",
   "execution_count": 5,
   "metadata": {},
   "outputs": [
    {
     "name": "stdout",
     "output_type": "stream",
     "text": [
      "33\n"
     ]
    }
   ],
   "source": [
    "print(len(labels))"
   ]
  },
  {
   "cell_type": "code",
   "execution_count": 6,
   "metadata": {},
   "outputs": [
    {
     "data": {
      "text/plain": [
       "(6482, 224, 224)"
      ]
     },
     "execution_count": 6,
     "metadata": {},
     "output_type": "execute_result"
    }
   ],
   "source": [
    "x_train, y_train = shuffle(x_train, y_train, random_state=42)\n",
    "x_train.shape"
   ]
  },
  {
   "cell_type": "code",
   "execution_count": 7,
   "metadata": {},
   "outputs": [],
   "source": [
    "from sklearn.model_selection import train_test_split\n",
    "X_train, X_test, Y_train, Y_test = train_test_split(x_train, y_train, test_size=0.2, random_state=42)"
   ]
  },
  {
   "cell_type": "code",
   "execution_count": 8,
   "metadata": {},
   "outputs": [
    {
     "name": "stderr",
     "output_type": "stream",
     "text": [
      "C:\\Users\\dsmat\\AppData\\Local\\Temp\\ipykernel_1452\\2496448203.py:15: UserWarning: \n",
      "The palette list has fewer values (4) than needed (33) and will cycle, which may produce an uninterpretable plot.\n",
      "  bar_plot = sns.barplot(x='Group', y='Number of Image', hue='Sign Type', data=df, palette=['#7ED321', '#D0021B', '#4A90E2', '#F5A623'])\n",
      "C:\\Users\\dsmat\\AppData\\Roaming\\Python\\Python311\\site-packages\\IPython\\core\\pylabtools.py:152: UserWarning: Glyph 2724 (\\N{GUJARATI LETTER TA}) missing from font(s) Arial.\n",
      "  fig.canvas.print_figure(bytes_io, **kw)\n",
      "C:\\Users\\dsmat\\AppData\\Roaming\\Python\\Python311\\site-packages\\IPython\\core\\pylabtools.py:152: UserWarning: Matplotlib currently does not support Gujarati natively.\n",
      "  fig.canvas.print_figure(bytes_io, **kw)\n",
      "C:\\Users\\dsmat\\AppData\\Roaming\\Python\\Python311\\site-packages\\IPython\\core\\pylabtools.py:152: UserWarning: Glyph 2727 (\\N{GUJARATI LETTER DHA}) missing from font(s) Arial.\n",
      "  fig.canvas.print_figure(bytes_io, **kw)\n",
      "C:\\Users\\dsmat\\AppData\\Roaming\\Python\\Python311\\site-packages\\IPython\\core\\pylabtools.py:152: UserWarning: Glyph 2745 (\\N{GUJARATI LETTER HA}) missing from font(s) Arial.\n",
      "  fig.canvas.print_figure(bytes_io, **kw)\n",
      "C:\\Users\\dsmat\\AppData\\Roaming\\Python\\Python311\\site-packages\\IPython\\core\\pylabtools.py:152: UserWarning: Glyph 2739 (\\N{GUJARATI LETTER LLA}) missing from font(s) Arial.\n",
      "  fig.canvas.print_figure(bytes_io, **kw)\n",
      "C:\\Users\\dsmat\\AppData\\Roaming\\Python\\Python311\\site-packages\\IPython\\core\\pylabtools.py:152: UserWarning: Glyph 2738 (\\N{GUJARATI LETTER LA}) missing from font(s) Arial.\n",
      "  fig.canvas.print_figure(bytes_io, **kw)\n",
      "C:\\Users\\dsmat\\AppData\\Roaming\\Python\\Python311\\site-packages\\IPython\\core\\pylabtools.py:152: UserWarning: Glyph 2723 (\\N{GUJARATI LETTER NNA}) missing from font(s) Arial.\n",
      "  fig.canvas.print_figure(bytes_io, **kw)\n",
      "C:\\Users\\dsmat\\AppData\\Roaming\\Python\\Python311\\site-packages\\IPython\\core\\pylabtools.py:152: UserWarning: Glyph 2719 (\\N{GUJARATI LETTER TTA}) missing from font(s) Arial.\n",
      "  fig.canvas.print_figure(bytes_io, **kw)\n",
      "C:\\Users\\dsmat\\AppData\\Roaming\\Python\\Python311\\site-packages\\IPython\\core\\pylabtools.py:152: UserWarning: Glyph 2725 (\\N{GUJARATI LETTER THA}) missing from font(s) Arial.\n",
      "  fig.canvas.print_figure(bytes_io, **kw)\n",
      "C:\\Users\\dsmat\\AppData\\Roaming\\Python\\Python311\\site-packages\\IPython\\core\\pylabtools.py:152: UserWarning: Glyph 2710 (\\N{GUJARATI LETTER KHA}) missing from font(s) Arial.\n",
      "  fig.canvas.print_figure(bytes_io, **kw)\n",
      "C:\\Users\\dsmat\\AppData\\Roaming\\Python\\Python311\\site-packages\\IPython\\core\\pylabtools.py:152: UserWarning: Glyph 2712 (\\N{GUJARATI LETTER GHA}) missing from font(s) Arial.\n",
      "  fig.canvas.print_figure(bytes_io, **kw)\n",
      "C:\\Users\\dsmat\\AppData\\Roaming\\Python\\Python311\\site-packages\\IPython\\core\\pylabtools.py:152: UserWarning: Glyph 2743 (\\N{GUJARATI LETTER SSA}) missing from font(s) Arial.\n",
      "  fig.canvas.print_figure(bytes_io, **kw)\n",
      "C:\\Users\\dsmat\\AppData\\Roaming\\Python\\Python311\\site-packages\\IPython\\core\\pylabtools.py:152: UserWarning: Glyph 2734 (\\N{GUJARATI LETTER MA}) missing from font(s) Arial.\n",
      "  fig.canvas.print_figure(bytes_io, **kw)\n",
      "C:\\Users\\dsmat\\AppData\\Roaming\\Python\\Python311\\site-packages\\IPython\\core\\pylabtools.py:152: UserWarning: Glyph 2720 (\\N{GUJARATI LETTER TTHA}) missing from font(s) Arial.\n",
      "  fig.canvas.print_figure(bytes_io, **kw)\n",
      "C:\\Users\\dsmat\\AppData\\Roaming\\Python\\Python311\\site-packages\\IPython\\core\\pylabtools.py:152: UserWarning: Glyph 2732 (\\N{GUJARATI LETTER BA}) missing from font(s) Arial.\n",
      "  fig.canvas.print_figure(bytes_io, **kw)\n",
      "C:\\Users\\dsmat\\AppData\\Roaming\\Python\\Python311\\site-packages\\IPython\\core\\pylabtools.py:152: UserWarning: Glyph 2722 (\\N{GUJARATI LETTER DDHA}) missing from font(s) Arial.\n",
      "  fig.canvas.print_figure(bytes_io, **kw)\n",
      "C:\\Users\\dsmat\\AppData\\Roaming\\Python\\Python311\\site-packages\\IPython\\core\\pylabtools.py:152: UserWarning: Glyph 2721 (\\N{GUJARATI LETTER DDA}) missing from font(s) Arial.\n",
      "  fig.canvas.print_figure(bytes_io, **kw)\n",
      "C:\\Users\\dsmat\\AppData\\Roaming\\Python\\Python311\\site-packages\\IPython\\core\\pylabtools.py:152: UserWarning: Glyph 2726 (\\N{GUJARATI LETTER DA}) missing from font(s) Arial.\n",
      "  fig.canvas.print_figure(bytes_io, **kw)\n",
      "C:\\Users\\dsmat\\AppData\\Roaming\\Python\\Python311\\site-packages\\IPython\\core\\pylabtools.py:152: UserWarning: Glyph 2744 (\\N{GUJARATI LETTER SA}) missing from font(s) Arial.\n",
      "  fig.canvas.print_figure(bytes_io, **kw)\n",
      "C:\\Users\\dsmat\\AppData\\Roaming\\Python\\Python311\\site-packages\\IPython\\core\\pylabtools.py:152: UserWarning: Glyph 2714 (\\N{GUJARATI LETTER CA}) missing from font(s) Arial.\n",
      "  fig.canvas.print_figure(bytes_io, **kw)\n",
      "C:\\Users\\dsmat\\AppData\\Roaming\\Python\\Python311\\site-packages\\IPython\\core\\pylabtools.py:152: UserWarning: Glyph 2716 (\\N{GUJARATI LETTER JA}) missing from font(s) Arial.\n",
      "  fig.canvas.print_figure(bytes_io, **kw)\n",
      "C:\\Users\\dsmat\\AppData\\Roaming\\Python\\Python311\\site-packages\\IPython\\core\\pylabtools.py:152: UserWarning: Glyph 2765 (\\N{GUJARATI SIGN VIRAMA}) missing from font(s) Arial.\n",
      "  fig.canvas.print_figure(bytes_io, **kw)\n",
      "C:\\Users\\dsmat\\AppData\\Roaming\\Python\\Python311\\site-packages\\IPython\\core\\pylabtools.py:152: UserWarning: Glyph 2718 (\\N{GUJARATI LETTER NYA}) missing from font(s) Arial.\n",
      "  fig.canvas.print_figure(bytes_io, **kw)\n",
      "C:\\Users\\dsmat\\AppData\\Roaming\\Python\\Python311\\site-packages\\IPython\\core\\pylabtools.py:152: UserWarning: Glyph 2728 (\\N{GUJARATI LETTER NA}) missing from font(s) Arial.\n",
      "  fig.canvas.print_figure(bytes_io, **kw)\n",
      "C:\\Users\\dsmat\\AppData\\Roaming\\Python\\Python311\\site-packages\\IPython\\core\\pylabtools.py:152: UserWarning: Glyph 2711 (\\N{GUJARATI LETTER GA}) missing from font(s) Arial.\n",
      "  fig.canvas.print_figure(bytes_io, **kw)\n",
      "C:\\Users\\dsmat\\AppData\\Roaming\\Python\\Python311\\site-packages\\IPython\\core\\pylabtools.py:152: UserWarning: Glyph 2735 (\\N{GUJARATI LETTER YA}) missing from font(s) Arial.\n",
      "  fig.canvas.print_figure(bytes_io, **kw)\n",
      "C:\\Users\\dsmat\\AppData\\Roaming\\Python\\Python311\\site-packages\\IPython\\core\\pylabtools.py:152: UserWarning: Glyph 2733 (\\N{GUJARATI LETTER BHA}) missing from font(s) Arial.\n",
      "  fig.canvas.print_figure(bytes_io, **kw)\n",
      "C:\\Users\\dsmat\\AppData\\Roaming\\Python\\Python311\\site-packages\\IPython\\core\\pylabtools.py:152: UserWarning: Glyph 2731 (\\N{GUJARATI LETTER PHA}) missing from font(s) Arial.\n",
      "  fig.canvas.print_figure(bytes_io, **kw)\n",
      "C:\\Users\\dsmat\\AppData\\Roaming\\Python\\Python311\\site-packages\\IPython\\core\\pylabtools.py:152: UserWarning: Glyph 2741 (\\N{GUJARATI LETTER VA}) missing from font(s) Arial.\n",
      "  fig.canvas.print_figure(bytes_io, **kw)\n",
      "C:\\Users\\dsmat\\AppData\\Roaming\\Python\\Python311\\site-packages\\IPython\\core\\pylabtools.py:152: UserWarning: Glyph 2715 (\\N{GUJARATI LETTER CHA}) missing from font(s) Arial.\n",
      "  fig.canvas.print_figure(bytes_io, **kw)\n",
      "C:\\Users\\dsmat\\AppData\\Roaming\\Python\\Python311\\site-packages\\IPython\\core\\pylabtools.py:152: UserWarning: Glyph 2709 (\\N{GUJARATI LETTER KA}) missing from font(s) Arial.\n",
      "  fig.canvas.print_figure(bytes_io, **kw)\n",
      "C:\\Users\\dsmat\\AppData\\Roaming\\Python\\Python311\\site-packages\\IPython\\core\\pylabtools.py:152: UserWarning: Glyph 2742 (\\N{GUJARATI LETTER SHA}) missing from font(s) Arial.\n",
      "  fig.canvas.print_figure(bytes_io, **kw)\n",
      "C:\\Users\\dsmat\\AppData\\Roaming\\Python\\Python311\\site-packages\\IPython\\core\\pylabtools.py:152: UserWarning: Glyph 2736 (\\N{GUJARATI LETTER RA}) missing from font(s) Arial.\n",
      "  fig.canvas.print_figure(bytes_io, **kw)\n"
     ]
    },
    {
     "data": {
      "image/png": "[encoded data removed]",
      "text/plain": [
       "<Figure size 1000x600 with 1 Axes>"
      ]
     },
     "metadata": {},
     "output_type": "display_data"
    }
   ],
   "source": [
    "from collections import Counter\n",
    "train_counts = Counter(Y_train)\n",
    "val_counts = Counter(Y_train)  \n",
    "test_counts = Counter(Y_test)\n",
    "data = {\n",
    "    'Group': ['Training']*len(train_counts) + ['Validation']*len(train_counts) + ['Testing']*len(test_counts),\n",
    "    'Sign Type': list(train_counts.keys()) + list(train_counts.keys()) + list(test_counts.keys()),\n",
    "    'Number of Image': list(train_counts.values()) + [int(v * 0.2) for v in train_counts.values()] + list(test_counts.values())\n",
    "}\n",
    "\n",
    "df = pd.DataFrame(data)\n",
    "plt.figure(figsize=(10, 6))\n",
    "sns.set(style=\"darkgrid\")\n",
    "\n",
    "bar_plot = sns.barplot(x='Group', y='Number of Image', hue='Sign Type', data=df, palette=['#7ED321', '#D0021B', '#4A90E2', '#F5A623'])\n",
    "plt.title('Sign type in Each Group')\n",
    "plt.xlabel('Group')\n",
    "plt.ylabel('Number of Image')\n",
    "plt.show()"
   ]
  },
  {
   "cell_type": "code",
   "execution_count": 9,
   "metadata": {},
   "outputs": [
    {
     "name": "stdout",
     "output_type": "stream",
     "text": [
      "train shape (5185, 224, 224) (5185,)\n",
      "test shape (1297, 224, 224) (1297,)\n"
     ]
    }
   ],
   "source": [
    "print(\"train shape\", X_train.shape, Y_train.shape)\n",
    "print(\"test shape\", X_test.shape, Y_test.shape)"
   ]
  },
  {
   "cell_type": "code",
   "execution_count": 10,
   "metadata": {},
   "outputs": [
    {
     "name": "stdout",
     "output_type": "stream",
     "text": [
      "['ત' 'ત' 'ધ' 'હ' 'ધ']\n",
      "['હ' 'ય' 'છ' 'દ' 'લ']\n"
     ]
    }
   ],
   "source": [
    "print(Y_train[:5])\n",
    "print(Y_test[:5])"
   ]
  },
  {
   "cell_type": "code",
   "execution_count": 11,
   "metadata": {},
   "outputs": [
    {
     "name": "stdout",
     "output_type": "stream",
     "text": [
      "ક: 0\n",
      "ખ: 1\n",
      "ગ: 2\n",
      "ઘ: 3\n",
      "ચ: 4\n",
      "છ: 5\n",
      "જ: 6\n",
      "ટ: 7\n",
      "ઠ: 8\n",
      "ડ: 9\n",
      "ઢ: 10\n",
      "ણ: 11\n",
      "ત: 12\n",
      "થ: 13\n",
      "દ: 14\n",
      "ધ: 15\n",
      "ન: 16\n",
      "ફ: 17\n",
      "બ: 18\n",
      "ભ: 19\n",
      "મ: 20\n",
      "ય: 21\n",
      "ર: 22\n",
      "લ: 23\n",
      "વ: 24\n",
      "શ: 25\n",
      "ષ: 26\n",
      "સ: 27\n",
      "હ: 28\n",
      "ળ: 29\n",
      "ક્ષ: 30\n",
      "જ્ઞ: 31\n",
      "0: 32\n"
     ]
    }
   ],
   "source": [
    "gujarati_ascii_dict = {char: i for i,  char in enumerate(labels)}\n",
    "for char, ascii_value in gujarati_ascii_dict.items():\n",
    "    print(f\"{char}: {ascii_value}\")"
   ]
  },
  {
   "cell_type": "code",
   "execution_count": 12,
   "metadata": {},
   "outputs": [],
   "source": [
    "Y_train_list = []\n",
    "for i in Y_train:\n",
    "        # If i is a lowercase letter, map it to a unique integer\n",
    "        Y_train_list.append(gujarati_ascii_dict[i])\n",
    "\n",
    "# Convert to categorical\n",
    "y_train1 = tf.keras.utils.to_categorical(Y_train_list , num_classes=len(labels))\n"
   ]
  },
  {
   "cell_type": "code",
   "execution_count": 13,
   "metadata": {},
   "outputs": [
    {
     "name": "stdout",
     "output_type": "stream",
     "text": [
      "one hot encoding \n",
      " [[0. 0. 0. 0. 0. 0. 0. 0. 0. 0. 0. 0. 1. 0. 0. 0. 0. 0. 0. 0. 0. 0. 0. 0.\n",
      "  0. 0. 0. 0. 0. 0. 0. 0. 0.]\n",
      " [0. 0. 0. 0. 0. 0. 0. 0. 0. 0. 0. 0. 1. 0. 0. 0. 0. 0. 0. 0. 0. 0. 0. 0.\n",
      "  0. 0. 0. 0. 0. 0. 0. 0. 0.]\n",
      " [0. 0. 0. 0. 0. 0. 0. 0. 0. 0. 0. 0. 0. 0. 0. 1. 0. 0. 0. 0. 0. 0. 0. 0.\n",
      "  0. 0. 0. 0. 0. 0. 0. 0. 0.]\n",
      " [0. 0. 0. 0. 0. 0. 0. 0. 0. 0. 0. 0. 0. 0. 0. 0. 0. 0. 0. 0. 0. 0. 0. 0.\n",
      "  0. 0. 0. 0. 1. 0. 0. 0. 0.]\n",
      " [0. 0. 0. 0. 0. 0. 0. 0. 0. 0. 0. 0. 0. 0. 0. 1. 0. 0. 0. 0. 0. 0. 0. 0.\n",
      "  0. 0. 0. 0. 0. 0. 0. 0. 0.]]\n"
     ]
    }
   ],
   "source": [
    "print(\"one hot encoding \\n\", y_train1[:5])"
   ]
  },
  {
   "cell_type": "code",
   "execution_count": 14,
   "metadata": {},
   "outputs": [
    {
     "name": "stdout",
     "output_type": "stream",
     "text": [
      "[28, 21, 5, 14, 23, 19, 21, 0, 25, 8, 13, 8, 15, 20, 27, 25, 25, 29, 30, 21, 8, 8, 8, 25, 10, 28, 24, 22, 31, 7, 13, 5, 15, 19, 31, 31, 9, 10, 11, 26, 3, 27, 13, 0, 20, 30, 7, 29, 17, 11, 1, 21, 23, 11, 10, 31, 4, 23, 0, 30, 6, 11, 7, 12, 2, 16, 8, 1, 10, 30, 21, 16, 0, 27, 10, 14, 5, 5, 5, 31, 0, 5, 28, 0, 1, 30, 31, 23, 10, 19, 9, 15, 31, 14, 3, 18, 22, 7, 6, 21, 20, 5, 26, 17, 15, 17, 28, 20, 17, 23, 14, 16, 2, 3, 16, 6, 14, 22, 11, 22, 17, 29, 13, 28, 20, 8, 20, 30, 30, 20, 3, 1, 28, 0, 9, 7, 7, 7, 26, 13, 11, 17, 0, 21, 21, 8, 28, 21, 15, 8, 12, 8, 9, 19, 19, 27, 0, 9, 2, 3, 21, 10, 21, 3, 12, 23, 24, 16, 14, 15, 30, 19, 8, 25, 22, 7, 7, 21, 25, 25, 22, 0, 21, 0, 27, 26, 2, 6, 5, 18, 24, 28, 11, 16, 14, 5, 16, 3, 19, 14, 16, 13, 20, 22, 21, 31, 18, 17, 16, 2, 26, 14, 22, 30, 31, 9, 19, 13, 29, 16, 17, 19, 10, 11, 19, 1, 4, 13, 25, 9, 20, 1, 27, 31, 12, 7, 20, 30, 10, 28, 23, 25, 10, 7, 29, 20, 15, 13, 8, 30, 24, 30, 23, 29, 8, 12, 26, 13, 0, 25, 19, 11, 11, 19, 16, 29, 0, 1, 8, 21, 27, 13, 27, 3, 18, 30, 7, 25, 25, 18, 11, 5, 29, 24, 23, 7, 4, 21, 7, 23, 22, 31, 10, 13, 20, 18, 10, 17, 8, 28, 17, 31, 20, 19, 18, 15, 19, 5, 1, 18, 10, 28, 29, 31, 17, 27, 14, 9, 31, 8, 27, 13, 29, 29, 8, 22, 25, 27, 15, 17, 13, 25, 10, 27, 0, 27, 21, 17, 7, 0, 17, 31, 7, 16, 0, 31, 31, 27, 5, 3, 23, 9, 1, 2, 16, 20, 9, 27, 12, 0, 5, 7, 14, 11, 23, 9, 17, 19, 2, 21, 17, 25, 14, 1, 22, 10, 6, 30, 17, 20, 7, 24, 8, 8, 2, 10, 21, 21, 11, 30, 8, 9, 0, 14, 8, 20, 10, 11, 16, 24, 25, 11, 2, 23, 20, 28, 7, 9, 23, 22, 27, 2, 18, 30, 13, 13, 11, 28, 17, 10, 11, 7, 7, 11, 2, 0, 11, 23, 9, 4, 25, 30, 22, 22, 4, 18, 20, 16, 16, 25, 0, 31, 27, 30, 0, 18, 11, 27, 1, 8, 1, 12, 31, 23, 9, 23, 22, 13, 19, 8, 7, 0, 28, 26, 6, 30, 18, 12, 17, 8, 20, 11, 25, 18, 21, 14, 9, 8, 29, 7, 15, 27, 14, 19, 11, 31, 22, 3, 8, 27, 31, 0, 29, 4, 18, 16, 28, 11, 11, 0, 30, 16, 0, 12, 0, 25, 5, 9, 14, 26, 13, 24, 20, 25, 3, 17, 0, 21, 25, 21, 2, 26, 1, 8, 0, 28, 21, 17, 19, 27, 17, 26, 7, 27, 26, 27, 22, 26, 19, 20, 19, 18, 2, 10, 17, 18, 24, 8, 30, 0, 2, 0, 17, 1, 21, 27, 31, 3, 13, 14, 14, 23, 30, 1, 16, 30, 20, 23, 4, 14, 4, 16, 12, 17, 5, 7, 9, 21, 24, 21, 21, 30, 18, 11, 7, 16, 2, 5, 26, 7, 22, 18, 31, 18, 15, 30, 29, 18, 11, 11, 28, 15, 7, 10, 18, 13, 11, 3, 0, 21, 8, 0, 0, 26, 26, 14, 29, 1, 25, 28, 4, 27, 17, 5, 24, 13, 18, 16, 26, 2, 14, 21, 8, 24, 12, 0, 23, 0, 22, 1, 0, 0, 7, 28, 26, 7, 14, 24, 25, 9, 1, 9, 9, 5, 0, 31, 29, 2, 30, 27, 25, 15, 29, 7, 15, 28, 25, 2, 0, 25, 28, 7, 1, 7, 10, 29, 4, 5, 31, 25, 25, 12, 19, 20, 12, 19, 22, 24, 25, 0, 0, 8, 0, 30, 15, 27, 3, 25, 14, 2, 24, 9, 31, 0, 17, 19, 11, 25, 15, 12, 15, 0, 0, 0, 16, 12, 31, 1, 11, 1, 4, 0, 28, 16, 30, 12, 26, 11, 25, 7, 10, 26, 2, 6, 23, 29, 19, 9, 0, 4, 5, 26, 0, 18, 23, 5, 22, 21, 0, 1, 23, 2, 17, 13, 9, 5, 19, 23, 4, 23, 29, 8, 1, 18, 3, 20, 23, 13, 30, 8, 20, 30, 24, 29, 24, 12, 5, 25, 16, 8, 19, 18, 3, 15, 16, 4, 28, 30, 26, 13, 13, 2, 24, 13, 27, 16, 28, 31, 14, 13, 21, 11, 12, 11, 24, 3, 25, 24, 31, 23, 17, 6, 23, 23, 19, 29, 3, 5, 28, 10, 31, 22, 23, 20, 14, 4, 27, 6, 4, 3, 27, 0, 16, 7, 5, 0, 4, 5, 29, 0, 26, 14, 25, 24, 22, 0, 21, 28, 27, 17, 15, 8, 9, 23, 29, 10, 12, 15, 28, 18, 23, 8, 1, 20, 25, 9, 30, 18, 23, 8, 25, 9, 10, 14, 22, 27, 21, 10, 28, 30, 15, 1, 30, 15, 13, 18, 30, 19, 26, 22, 11, 8, 2, 15, 28, 19, 8, 12, 14, 29, 21, 11, 17, 31, 3, 20, 27, 27, 20, 30, 2, 9, 4, 3, 0, 31, 16, 13, 20, 2, 26, 21, 17, 29, 8, 26, 31, 18, 21, 21, 1, 13, 6, 27, 8, 7, 3, 30, 18, 16, 18, 26, 22, 27, 12, 30, 4, 22, 14, 7, 1, 29, 26, 8, 25, 5, 13, 25, 20, 9, 12, 8, 18, 31, 11, 9, 30, 17, 29, 15, 26, 4, 20, 11, 0, 26, 0, 24, 11, 9, 3, 11, 20, 14, 31, 14, 0, 10, 15, 26, 10, 27, 0, 12, 14, 10, 0, 0, 7, 23, 19, 11, 18, 26, 27, 9, 1, 7, 25, 27, 8, 2, 6, 13, 4, 5, 2, 12, 29, 8, 1, 20, 3, 1, 15, 9, 29, 8, 19, 18, 29, 13, 22, 8, 27, 17, 15, 12, 28, 22, 2, 29, 21, 0, 28, 10, 8, 7, 14, 5, 3, 18, 11, 19, 20, 10, 10, 9, 10, 27, 9, 31, 31, 12, 24, 11, 24, 15, 15, 30, 12, 23, 22, 9, 3, 19, 15, 26, 27, 19, 0, 3, 3, 2, 15, 7, 17, 15, 29, 20, 22, 27, 9, 2, 0, 18, 23, 3, 28, 31, 5, 16, 30, 22, 27, 2, 20, 24, 28, 3, 3, 3, 11, 1, 4, 0, 14, 4, 0, 11, 11, 31, 28, 22, 6, 26, 28, 15, 2, 12, 23, 17, 10, 26, 25, 12, 8, 7, 9, 29, 16, 14, 21, 1, 20, 8, 26, 13, 5, 0, 30, 9, 31, 31, 27, 27, 15, 29, 18, 0, 19, 20, 12, 2, 25, 14, 4, 26, 27, 23, 16, 24, 15, 0, 26, 26, 9, 19, 28, 21, 21, 0, 4, 21, 1, 7, 28, 5, 29, 3, 7, 19, 0, 14, 8, 29, 7, 23, 31, 27, 2, 13, 0, 9, 6, 10, 5, 16, 17, 27, 23, 26, 21, 14, 17, 18, 8, 21, 23, 25, 17, 16, 30, 0, 29, 11, 26, 6, 24, 30, 25, 7, 19, 10, 3, 14, 18, 16, 0, 5, 10, 21, 7, 12, 27, 16, 7, 19, 20, 9, 24, 8, 30, 17, 8, 31, 30, 23, 0, 22, 26, 31, 26, 2, 3, 22, 0, 13, 18, 2, 5, 10, 2, 15, 29, 13, 14, 7, 7, 18, 25, 31, 25, 23, 11, 5, 14, 9, 19, 9, 10, 8, 10, 24, 30, 17, 27]\n"
     ]
    }
   ],
   "source": [
    "Y_test_list = []\n",
    "for i in Y_test:\n",
    "    if i.isdigit():\n",
    "        Y_test_list.append(int(i))\n",
    "    else:\n",
    "        # If i is a lowercase letter, map it to a unique integer\n",
    "        Y_test_list.append(gujarati_ascii_dict[i])\n",
    "\n",
    "# Convert to categorical\n",
    "print(Y_test_list)\n",
    "y_test1 = tf.keras.utils.to_categorical(Y_test_list, num_classes=len(labels))\n"
   ]
  },
  {
   "cell_type": "code",
   "execution_count": 15,
   "metadata": {},
   "outputs": [
    {
     "data": {
      "text/plain": [
       "array([[0., 0., 0., 0., 0., 0., 0., 0., 0., 0., 0., 0., 0., 0., 0., 0.,\n",
       "        0., 0., 0., 0., 0., 0., 0., 0., 0., 0., 0., 0., 1., 0., 0., 0.,\n",
       "        0.],\n",
       "       [0., 0., 0., 0., 0., 0., 0., 0., 0., 0., 0., 0., 0., 0., 0., 0.,\n",
       "        0., 0., 0., 0., 0., 1., 0., 0., 0., 0., 0., 0., 0., 0., 0., 0.,\n",
       "        0.],\n",
       "       [0., 0., 0., 0., 0., 1., 0., 0., 0., 0., 0., 0., 0., 0., 0., 0.,\n",
       "        0., 0., 0., 0., 0., 0., 0., 0., 0., 0., 0., 0., 0., 0., 0., 0.,\n",
       "        0.],\n",
       "       [0., 0., 0., 0., 0., 0., 0., 0., 0., 0., 0., 0., 0., 0., 1., 0.,\n",
       "        0., 0., 0., 0., 0., 0., 0., 0., 0., 0., 0., 0., 0., 0., 0., 0.,\n",
       "        0.],\n",
       "       [0., 0., 0., 0., 0., 0., 0., 0., 0., 0., 0., 0., 0., 0., 0., 0.,\n",
       "        0., 0., 0., 0., 0., 0., 0., 1., 0., 0., 0., 0., 0., 0., 0., 0.,\n",
       "        0.]])"
      ]
     },
     "execution_count": 15,
     "metadata": {},
     "output_type": "execute_result"
    }
   ],
   "source": [
    "y_test1[:5]"
   ]
  },
  {
   "cell_type": "code",
   "execution_count": 16,
   "metadata": {},
   "outputs": [],
   "source": [
    "input_layer = Input(shape=(224, 224, 1))\n",
    "\n",
    "# Load VGG19 without pretrained weights\n",
    "base_model = VGG19(weights=None, include_top=False, input_tensor=input_layer)\n",
    "\n",
    "# Add custom layers\n",
    "x = base_model.output\n",
    "x = Flatten(name='flatten')(x)\n",
    "x = Dense(4096, activation='relu', name='fc1')(x)\n",
    "x = Dense(4096, activation='relu', name='fc2')(x)\n",
    "x = Dense(len(labels), activation='softmax', name='predictions')(x)\n",
    "\n",
    "model = Model(inputs=input_layer, outputs=x)"
   ]
  },
  {
   "cell_type": "code",
   "execution_count": 17,
   "metadata": {},
   "outputs": [],
   "source": [
    "import os\n",
    "\n",
    "# Get the current working directory\n",
    "current_dir = os.getcwd()\n",
    "\n",
    "# Define the file path\n",
    "file_path = os.path.join(current_dir, 'vgg19_model_o8.keras')\n",
    "\n",
    "checkpoint = ModelCheckpoint(filepath=file_path, monitor='val_loss', save_best_only=True, save_weights_only=False, verbose=1)\n",
    "\n",
    "reduce_learning_rate = ReduceLROnPlateau(monitor='val_loss', factor=0.1, patience=6, verbose=1)\n",
    "\n",
    "early_stopping = EarlyStopping(monitor='val_accuracy', verbose=1, patience=5)\n",
    "\n",
    "callbacks = [checkpoint, reduce_learning_rate, early_stopping]\n"
   ]
  },
  {
   "cell_type": "code",
   "execution_count": 18,
   "metadata": {},
   "outputs": [],
   "source": [
    "model.compile(optimizer=Adam(learning_rate=1e-5), loss='categorical_crossentropy', metrics=[\"accuracy\", \"precision\", \"recall\", \"auc\"])"
   ]
  },
  {
   "cell_type": "code",
   "execution_count": null,
   "metadata": {},
   "outputs": [
    {
     "name": "stdout",
     "output_type": "stream",
     "text": [
      "Epoch 1/100\n",
      "\u001b[1m130/130\u001b[0m \u001b[32m━━━━━━━━━━━━━━━━━━━━\u001b[0m\u001b[37m\u001b[0m \u001b[1m0s\u001b[0m 12s/step - accuracy: 0.3629 - auc: 0.8192 - loss: 2.3905 - precision: 0.6801 - recall: 0.2123 \n",
      "Epoch 1: val_loss improved from inf to 0.50187, saving model to d:\\SRP\\totnew\\vgg19_model_o8.keras\n",
      "\u001b[1m130/130\u001b[0m \u001b[32m━━━━━━━━━━━━━━━━━━━━\u001b[0m\u001b[37m\u001b[0m \u001b[1m1715s\u001b[0m 13s/step - accuracy: 0.3647 - auc: 0.8201 - loss: 2.3838 - precision: 0.6815 - recall: 0.2142 - val_accuracy: 0.8554 - val_auc: 0.9898 - val_loss: 0.5019 - val_precision: 0.9015 - val_recall: 0.8033 - learning_rate: 1.0000e-05\n",
      "Epoch 2/100\n",
      "\u001b[1m130/130\u001b[0m \u001b[32m━━━━━━━━━━━━━━━━━━━━\u001b[0m\u001b[37m\u001b[0m \u001b[1m0s\u001b[0m 11s/step - accuracy: 0.9031 - auc: 0.9949 - loss: 0.3442 - precision: 0.9276 - recall: 0.8746 \n",
      "Epoch 2: val_loss improved from 0.50187 to 0.24215, saving model to d:\\SRP\\totnew\\vgg19_model_o8.keras\n",
      "\u001b[1m130/130\u001b[0m \u001b[32m━━━━━━━━━━━━━━━━━━━━\u001b[0m\u001b[37m\u001b[0m \u001b[1m1609s\u001b[0m 12s/step - accuracy: 0.9032 - auc: 0.9949 - loss: 0.3440 - precision: 0.9277 - recall: 0.8747 - val_accuracy: 0.9335 - val_auc: 0.9986 - val_loss: 0.2422 - val_precision: 0.9476 - val_recall: 0.9065 - learning_rate: 1.0000e-05\n",
      "Epoch 3/100\n",
      "\u001b[1m130/130\u001b[0m \u001b[32m━━━━━━━━━━━━━━━━━━━━\u001b[0m\u001b[37m\u001b[0m \u001b[1m0s\u001b[0m 8s/step - accuracy: 0.9630 - auc: 0.9994 - loss: 0.1244 - precision: 0.9689 - recall: 0.9549\n",
      "Epoch 3: val_loss improved from 0.24215 to 0.13431, saving model to d:\\SRP\\totnew\\vgg19_model_o8.keras\n",
      "\u001b[1m130/130\u001b[0m \u001b[32m━━━━━━━━━━━━━━━━━━━━\u001b[0m\u001b[37m\u001b[0m \u001b[1m1130s\u001b[0m 9s/step - accuracy: 0.9630 - auc: 0.9994 - loss: 0.1243 - precision: 0.9690 - recall: 0.9549 - val_accuracy: 0.9643 - val_auc: 0.9969 - val_loss: 0.1343 - val_precision: 0.9707 - val_recall: 0.9585 - learning_rate: 1.0000e-05\n",
      "Epoch 4/100\n",
      "\u001b[1m130/130\u001b[0m \u001b[32m━━━━━━━━━━━━━━━━━━━━\u001b[0m\u001b[37m\u001b[0m \u001b[1m0s\u001b[0m 7s/step - accuracy: 0.9797 - auc: 0.9999 - loss: 0.0673 - precision: 0.9812 - recall: 0.9747\n",
      "Epoch 4: val_loss did not improve from 0.13431\n",
      "\u001b[1m130/130\u001b[0m \u001b[32m━━━━━━━━━━━━━━━━━━━━\u001b[0m\u001b[37m\u001b[0m \u001b[1m939s\u001b[0m 7s/step - accuracy: 0.9797 - auc: 0.9999 - loss: 0.0672 - precision: 0.9812 - recall: 0.9747 - val_accuracy: 0.9527 - val_auc: 0.9938 - val_loss: 0.2232 - val_precision: 0.9544 - val_recall: 0.9489 - learning_rate: 1.0000e-05\n",
      "Epoch 5/100\n",
      "\u001b[1m130/130\u001b[0m \u001b[32m━━━━━━━━━━━━━━━━━━━━\u001b[0m\u001b[37m\u001b[0m \u001b[1m0s\u001b[0m 11s/step - accuracy: 0.9738 - auc: 0.9977 - loss: 0.1025 - precision: 0.9750 - recall: 0.9711 \n",
      "Epoch 5: val_loss improved from 0.13431 to 0.07907, saving model to d:\\SRP\\totnew\\vgg19_model_o8.keras\n",
      "\u001b[1m130/130\u001b[0m \u001b[32m━━━━━━━━━━━━━━━━━━━━\u001b[0m\u001b[37m\u001b[0m \u001b[1m1475s\u001b[0m 11s/step - accuracy: 0.9738 - auc: 0.9977 - loss: 0.1023 - precision: 0.9751 - recall: 0.9711 - val_accuracy: 0.9778 - val_auc: 0.9985 - val_loss: 0.0791 - val_precision: 0.9835 - val_recall: 0.9749 - learning_rate: 1.0000e-05\n",
      "Epoch 6/100\n",
      "\u001b[1m130/130\u001b[0m \u001b[32m━━━━━━━━━━━━━━━━━━━━\u001b[0m\u001b[37m\u001b[0m \u001b[1m0s\u001b[0m 23s/step - accuracy: 0.9909 - auc: 0.9999 - loss: 0.0233 - precision: 0.9923 - recall: 0.9909 \n",
      "Epoch 6: val_loss did not improve from 0.07907\n",
      "\u001b[1m130/130\u001b[0m \u001b[32m━━━━━━━━━━━━━━━━━━━━\u001b[0m\u001b[37m\u001b[0m \u001b[1m2999s\u001b[0m 23s/step - accuracy: 0.9909 - auc: 0.9999 - loss: 0.0233 - precision: 0.9923 - recall: 0.9909 - val_accuracy: 0.9643 - val_auc: 0.9921 - val_loss: 0.2059 - val_precision: 0.9671 - val_recall: 0.9643 - learning_rate: 1.0000e-05\n",
      "Epoch 7/100\n",
      "\u001b[1m130/130\u001b[0m \u001b[32m━━━━━━━━━━━━━━━━━━━━\u001b[0m\u001b[37m\u001b[0m \u001b[1m0s\u001b[0m 7s/step - accuracy: 0.9901 - auc: 0.9981 - loss: 0.0442 - precision: 0.9922 - recall: 0.9901\n",
      "Epoch 7: val_loss improved from 0.07907 to 0.02604, saving model to d:\\SRP\\totnew\\vgg19_model_o8.keras\n",
      "\u001b[1m130/130\u001b[0m \u001b[32m━━━━━━━━━━━━━━━━━━━━\u001b[0m\u001b[37m\u001b[0m \u001b[1m962s\u001b[0m 7s/step - accuracy: 0.9901 - auc: 0.9981 - loss: 0.0441 - precision: 0.9922 - recall: 0.9901 - val_accuracy: 0.9961 - val_auc: 0.9995 - val_loss: 0.0260 - val_precision: 0.9961 - val_recall: 0.9961 - learning_rate: 1.0000e-05\n",
      "Epoch 8/100\n",
      "\u001b[1m130/130\u001b[0m \u001b[32m━━━━━━━━━━━━━━━━━━━━\u001b[0m\u001b[37m\u001b[0m \u001b[1m0s\u001b[0m 13s/step - accuracy: 0.9992 - auc: 1.0000 - loss: 0.0025 - precision: 0.9992 - recall: 0.9992 \n",
      "Epoch 8: val_loss did not improve from 0.02604\n",
      "\u001b[1m130/130\u001b[0m \u001b[32m━━━━━━━━━━━━━━━━━━━━\u001b[0m\u001b[37m\u001b[0m \u001b[1m1725s\u001b[0m 13s/step - accuracy: 0.9992 - auc: 1.0000 - loss: 0.0025 - precision: 0.9992 - recall: 0.9992 - val_accuracy: 0.9942 - val_auc: 0.9995 - val_loss: 0.0287 - val_precision: 0.9971 - val_recall: 0.9942 - learning_rate: 1.0000e-05\n",
      "Epoch 9/100\n",
      "\u001b[1m130/130\u001b[0m \u001b[32m━━━━━━━━━━━━━━━━━━━━\u001b[0m\u001b[37m\u001b[0m \u001b[1m0s\u001b[0m 7s/step - accuracy: 1.0000 - auc: 1.0000 - loss: 2.7516e-04 - precision: 1.0000 - recall: 1.0000\n",
      "Epoch 9: val_loss did not improve from 0.02604\n",
      "\u001b[1m130/130\u001b[0m \u001b[32m━━━━━━━━━━━━━━━━━━━━\u001b[0m\u001b[37m\u001b[0m \u001b[1m961s\u001b[0m 7s/step - accuracy: 1.0000 - auc: 1.0000 - loss: 2.7684e-04 - precision: 1.0000 - recall: 1.0000 - val_accuracy: 0.9865 - val_auc: 0.9970 - val_loss: 0.0647 - val_precision: 0.9875 - val_recall: 0.9865 - learning_rate: 1.0000e-05\n",
      "Epoch 10/100\n",
      "\u001b[1m130/130\u001b[0m \u001b[32m━━━━━━━━━━━━━━━━━━━━\u001b[0m\u001b[37m\u001b[0m \u001b[1m0s\u001b[0m 7s/step - accuracy: 0.9991 - auc: 1.0000 - loss: 0.0015 - precision: 0.9991 - recall: 0.9991\n",
      "Epoch 10: val_loss did not improve from 0.02604\n",
      "\u001b[1m130/130\u001b[0m \u001b[32m━━━━━━━━━━━━━━━━━━━━\u001b[0m\u001b[37m\u001b[0m \u001b[1m966s\u001b[0m 7s/step - accuracy: 0.9991 - auc: 1.0000 - loss: 0.0015 - precision: 0.9991 - recall: 0.9991 - val_accuracy: 0.9942 - val_auc: 0.9990 - val_loss: 0.0358 - val_precision: 0.9942 - val_recall: 0.9932 - learning_rate: 1.0000e-05\n",
      "Epoch 11/100\n",
      "\u001b[1m 91/130\u001b[0m \u001b[32m━━━━━━━━━━━━━━\u001b[0m\u001b[37m━━━━━━\u001b[0m \u001b[1m4:33\u001b[0m 7s/step - accuracy: 1.0000 - auc: 1.0000 - loss: 1.5523e-04 - precision: 1.0000 - recall: 1.0000"
     ]
    }
   ],
   "source": [
    "history = model.fit(X_train, y_train1, epochs=100, batch_size=32, validation_split=0.2, callbacks = callbacks)"
   ]
  },
  {
   "cell_type": "code",
   "execution_count": null,
   "metadata": {},
   "outputs": [],
   "source": [
    "model.save(\"model_on_Edge_GrayScale_WithoutImgnet.h5\") \n"
   ]
  },
  {
   "cell_type": "code",
   "execution_count": null,
   "metadata": {},
   "outputs": [],
   "source": [
    "acc = history.history['accuracy']\n",
    "val_acc = history.history['val_accuracy']\n",
    "epochs = range(len(acc))\n",
    "fig = plt.figure(figsize=(14,7))\n",
    "plt.plot(epochs,acc,'r',label=\"Training Accuracy\")\n",
    "plt.plot(epochs,val_acc,'b',label=\"Validation Accuracy\")\n",
    "plt.legend(loc='upper left')\n",
    "plt.show()"
   ]
  },
  {
   "cell_type": "code",
   "execution_count": null,
   "metadata": {},
   "outputs": [],
   "source": [
    "loss = history.history['loss']\n",
    "val_loss = history.history['val_loss']\n",
    "epochs = range(len(loss))\n",
    "fig = plt.figure(figsize=(14,7))\n",
    "plt.plot(epochs,loss,'r',label=\"Training loss\")\n",
    "plt.plot(epochs,val_loss,'b',label=\"Validation loss\")\n",
    "plt.legend(loc='upper left')\n",
    "plt.show()"
   ]
  },
  {
   "cell_type": "code",
   "execution_count": null,
   "metadata": {},
   "outputs": [],
   "source": [
    "hist_=pd.DataFrame(history.history)\n",
    "hist_"
   ]
  },
  {
   "cell_type": "code",
   "execution_count": null,
   "metadata": {},
   "outputs": [],
   "source": [
    "plt.figure(figsize=(15,10))\n",
    "plt.subplot(1,2,1)\n",
    "plt.plot(hist_['loss'],label='Train_Loss')\n",
    "plt.plot(hist_['val_loss'],label='Validation_Loss')\n",
    "plt.title('Train_Loss & Validation_Loss',fontsize=20)\n",
    "plt.legend()\n",
    "plt.subplot(1,2,2)\n",
    "plt.plot(hist_['accuracy'],label='Train_Accuracy')\n",
    "plt.plot(hist_['val_accuracy'],label='Validation_Accuracy')\n",
    "plt.title('Train_Accuracy & Validation_Accuracy',fontsize=20)\n",
    "plt.legend()\n",
    "plt.show()"
   ]
  },
  {
   "cell_type": "code",
   "execution_count": null,
   "metadata": {},
   "outputs": [],
   "source": [
    "predic = model.predict(X_test)"
   ]
  },
  {
   "cell_type": "code",
   "execution_count": null,
   "metadata": {},
   "outputs": [],
   "source": [
    "y_pred = np.argmax(predic, axis=1)\n",
    "y_pred = np.ravel(y_pred)\n",
    "print(y_pred)\n"
   ]
  },
  {
   "cell_type": "code",
   "execution_count": null,
   "metadata": {},
   "outputs": [],
   "source": [
    "y_test2 = np.argmax(y_test1, axis=1)\n",
    "y_test2 = np.ravel(y_test2)"
   ]
  },
  {
   "cell_type": "code",
   "execution_count": null,
   "metadata": {},
   "outputs": [],
   "source": [
    "from sklearn.metrics import confusion_matrix\n",
    "plt.figure(figsize=(10,10))\n",
    "CM = confusion_matrix(y_test2,y_pred)\n",
    "sns.heatmap(CM,fmt='g',center = True,cbar=False,annot=True,cmap='Blues')\n",
    "CM"
   ]
  },
  {
   "cell_type": "code",
   "execution_count": null,
   "metadata": {},
   "outputs": [],
   "source": []
  }
 ],
 "metadata": {
  "kernelspec": {
   "display_name": "Python 3",
   "language": "python",
   "name": "python3"
  },
  "language_info": {
   "codemirror_mode": {
    "name": "ipython",
    "version": 3
   },
   "file_extension": ".py",
   "mimetype": "text/x-python",
   "name": "python",
   "nbconvert_exporter": "python",
   "pygments_lexer": "ipython3",
   "version": "3.11.5"
  }
 },
 "nbformat": 4,
 "nbformat_minor": 2
}
