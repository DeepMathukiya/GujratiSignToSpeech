{
 "cells": [
  {
   "cell_type": "code",
   "execution_count": 10,
   "metadata": {},
   "outputs": [
    {
     "data": {
      "text/plain": [
       "True"
      ]
     },
     "execution_count": 10,
     "metadata": {},
     "output_type": "execute_result"
    }
   ],
   "source": [
    "import cv2\n",
    "import numpy as np\n",
    "\n",
    "# Load the image\n",
    "image = cv2.imread('saved_img.jpg')\n",
    "\n",
    "# Denoise the image using a bilateral filter\n",
    "denoised = cv2.bilateralFilter(image, d=9, sigmaColor=75, sigmaSpace=75)\n",
    "\n",
    "# Convert to grayscale\n",
    "gray = cv2.cvtColor(denoised, cv2.COLOR_BGR2GRAY)\n",
    "\n",
    "# Enhance contrast using CLAHE\n",
    "clahe = cv2.createCLAHE(clipLimit=2.0, tileGridSize=(8, 8))\n",
    "contrast_enhanced = clahe.apply(gray)\n",
    "\n",
    "# Sharpen the image\n",
    "kernel = np.array([[0, -1, 0], \n",
    "                   [-1, 5,-1], \n",
    "                   [0, -1, 0]])\n",
    "sharpened = cv2.filter2D(contrast_enhanced, -1, kernel)\n",
    "\n",
    "# Adjust brightness (gamma correction)\n",
    "gamma = 1.2\n",
    "gamma_correction = np.array(255 * (sharpened / 255) ** gamma, dtype='uint8')\n",
    "\n",
    "# Save or display the processed image\n",
    "cv2.imwrite('cleaned_img.jpg', gamma_correction)\n",
    "\n",
    "# Optional: Display the final image\n",
    "# cv2.imshow('Cleaned Image', gamma_correction)\n",
    "# cv2.waitKey(0)\n",
    "# cv2.destroyAllWindows()\n"
   ]
  },
  {
   "cell_type": "code",
   "execution_count": 12,
   "metadata": {},
   "outputs": [
    {
     "data": {
      "text/plain": [
       "True"
      ]
     },
     "execution_count": 12,
     "metadata": {},
     "output_type": "execute_result"
    }
   ],
   "source": [
    "import cv2\n",
    "import numpy as np\n",
    "\n",
    "# Load the colored image\n",
    "image = cv2.imread('saved_img.jpg')\n",
    "\n",
    "# Denoise the image using a bilateral filter\n",
    "denoised = cv2.bilateralFilter(image, d=9, sigmaColor=75, sigmaSpace=75)\n",
    "\n",
    "# Enhance contrast using CLAHE for each channel\n",
    "lab = cv2.cvtColor(denoised, cv2.COLOR_BGR2LAB)  # Convert to LAB color space\n",
    "l, a, b = cv2.split(lab)  # Split into channels\n",
    "clahe = cv2.createCLAHE(clipLimit=2.0, tileGridSize=(8, 8))\n",
    "l = clahe.apply(l)  # Apply CLAHE to the L channel\n",
    "enhanced_lab = cv2.merge((l, a, b))  # Merge the channels back\n",
    "contrast_enhanced = cv2.cvtColor(enhanced_lab, cv2.COLOR_LAB2BGR)  # Convert back to BGR\n",
    "\n",
    "# Sharpen the image\n",
    "kernel = np.array([[0, -1, 0],\n",
    "                   [-1, 5, -1],\n",
    "                   [0, -1, 0]])\n",
    "sharpened = cv2.filter2D(contrast_enhanced, -1, kernel)\n",
    "\n",
    "# Adjust brightness using gamma correction\n",
    "gamma = 1  # Brightness factor\n",
    "gamma_correction = np.array(255 * (sharpened / 255) ** gamma, dtype='uint8')\n",
    "\n",
    "# Save or display the cleaned image\n",
    "cv2.imwrite('cleaned_colored_img.jpg', gamma_correction)\n",
    "\n",
    "# Optional: Display the final image\n",
    "# cv2.imshow('Cleaned Colored Image', gamma_correction)\n",
    "# cv2.waitKey(0)\n",
    "# cv2.destroyAllWindows()\n"
   ]
  },
  {
   "cell_type": "code",
   "execution_count": 21,
   "metadata": {},
   "outputs": [
    {
     "data": {
      "text/plain": [
       "True"
      ]
     },
     "execution_count": 21,
     "metadata": {},
     "output_type": "execute_result"
    }
   ],
   "source": [
    "import cv2\n",
    "\n",
    "# Load the colored image\n",
    "image = cv2.imread('saved_img.jpg')\n",
    "\n",
    "# Apply GaussianBlur to reduce noise\n",
    "gaussian_blur = cv2.GaussianBlur(image, (5, 5), 0)\n",
    "\n",
    "# Apply Bilateral Filtering for better noise reduction while preserving edges\n",
    "bilateral_filter = cv2.bilateralFilter(image, d=15, sigmaColor=5, sigmaSpace=5)\n",
    "\n",
    "# Save both processed images\n",
    "cv2.imwrite('gaussian_blur.jpg', gaussian_blur)\n",
    "cv2.imwrite('bilateral_filter.jpg', bilateral_filter)\n",
    "\n",
    "# Optional: Display the processed images\n",
    "# cv2.imshow('Original Image', image)\n",
    "# cv2.imshow('Gaussian Blur', gaussian_blur)\n",
    "# cv2.imshow('Bilateral Filter', bilateral_filter)\n",
    "# cv2.waitKey(0)\n",
    "# cv2.destroyAllWindows()\n"
   ]
  },
  {
   "cell_type": "code",
   "execution_count": 31,
   "metadata": {},
   "outputs": [
    {
     "data": {
      "text/plain": [
       "True"
      ]
     },
     "execution_count": 31,
     "metadata": {},
     "output_type": "execute_result"
    }
   ],
   "source": [
    "import cv2\n",
    "\n",
    "image = cv2.imread('saved_img.jpg')\n",
    "di = cv2.fastNlMeansDenoisingColored(image, None, 3, 11, 7, 21)\n",
    "bright_image = cv2.convertScaleAbs(di, alpha=1, beta=10)\n",
    "\n",
    "cv2.imwrite('fastNlMeansDenoisingColored.jpg', di)\n",
    "cv2.imwrite('bright_image.jpg', bright_image)"
   ]
  },
  {
   "cell_type": "markdown",
   "metadata": {},
   "source": [
    "all Time Works Great below"
   ]
  },
  {
   "cell_type": "code",
   "execution_count": 32,
   "metadata": {},
   "outputs": [
    {
     "data": {
      "text/plain": [
       "True"
      ]
     },
     "execution_count": 32,
     "metadata": {},
     "output_type": "execute_result"
    },
    {
     "ename": "",
     "evalue": "",
     "output_type": "error",
     "traceback": [
      "\u001b[1;31mThe Kernel crashed while executing code in the current cell or a previous cell. \n",
      "\u001b[1;31mPlease review the code in the cell(s) to identify a possible cause of the failure. \n",
      "\u001b[1;31mClick <a href='https://aka.ms/vscodeJupyterKernelCrash'>here</a> for more info. \n",
      "\u001b[1;31mView Jupyter <a href='command:jupyter.viewOutput'>log</a> for further details."
     ]
    }
   ],
   "source": [
    "import cv2\n",
    "\n",
    "image = cv2.imread('saved_img.jpg')\n",
    "di = cv2.fastNlMeansDenoisingColored(image, None, 3, 11, 7, 21)\n",
    "cv2.imwrite('fastNlMeansDenoisingColored.jpg', di)\n",
    "\n"
   ]
  },
  {
   "cell_type": "code",
   "execution_count": null,
   "metadata": {},
   "outputs": [],
   "source": []
  }
 ],
 "metadata": {
  "kernelspec": {
   "display_name": "Python 3",
   "language": "python",
   "name": "python3"
  },
  "language_info": {
   "codemirror_mode": {
    "name": "ipython",
    "version": 3
   },
   "file_extension": ".py",
   "mimetype": "text/x-python",
   "name": "python",
   "nbconvert_exporter": "python",
   "pygments_lexer": "ipython3",
   "version": "3.11.5"
  }
 },
 "nbformat": 4,
 "nbformat_minor": 2
}
